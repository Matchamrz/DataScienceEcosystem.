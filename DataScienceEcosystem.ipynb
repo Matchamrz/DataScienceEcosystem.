{
 "cells": [
  {
   "cell_type": "markdown",
   "id": "743d8ac3-2b92-45d3-8b94-e846dd7f9079",
   "metadata": {},
   "source": [
    "# Data Science Tools and Ecosystem"
   ]
  },
  {
   "cell_type": "markdown",
   "id": "f073c323-7a12-4de9-9c2e-0ffeb8d1f802",
   "metadata": {},
   "source": [
    "In this notebook, Data Science Tools and Ecosystem are summarized."
   ]
  },
  {
   "cell_type": "markdown",
   "id": "6e57de75-4c61-468f-a454-81d5f3267ae6",
   "metadata": {},
   "source": [
    "Some of the popular languages that Data Scientists use are:\n",
    "\n",
    "1. Python\n",
    "2. R\n",
    "3. Scala"
   ]
  },
  {
   "cell_type": "markdown",
   "id": "fc5e574f-dd20-464f-8b19-27ba59036193",
   "metadata": {},
   "source": [
    "**Objectives:** \n",
    "* List popular languages for Data Science\n",
    "* Popular libraries for Data Science\n",
    "* Cloud tools for Data Science\n",
    "* Introduction to Git and Github\n",
    "  "
   ]
  },
  {
   "cell_type": "markdown",
   "id": "a380bbad-dc39-477b-aad9-c3fbf7b6f070",
   "metadata": {},
   "source": [
    "Some of the commonly used libraries used by Data Scientists include:\n",
    "\n",
    "1. Matplotlib\n",
    "2. Seaborn\n",
    "3. NumPy"
   ]
  },
  {
   "cell_type": "markdown",
   "id": "1d0124f9-5c41-4f52-9961-946d6b88e76d",
   "metadata": {},
   "source": [
    "|Data Science Tools|\n",
    "|------------------|\n",
    "| Python |\n",
    "|SQL |\n",
    "|Apache Spark|"
   ]
  },
  {
   "cell_type": "markdown",
   "id": "842badb2-fa9a-4706-a73f-247e6d065bec",
   "metadata": {},
   "source": [
    "### Below are a few examples of evaluating arithmetic expressions in Python."
   ]
  },
  {
   "cell_type": "code",
   "execution_count": 20,
   "id": "74722823-ff95-4c14-9484-9d21511cae2a",
   "metadata": {},
   "outputs": [
    {
     "data": {
      "text/plain": [
       "17"
      ]
     },
     "execution_count": 20,
     "metadata": {},
     "output_type": "execute_result"
    }
   ],
   "source": [
    "# This a simple arithmetic expression to mutiply then add integers\n",
    "(3*4)+5"
   ]
  },
  {
   "cell_type": "code",
   "execution_count": 22,
   "id": "11bb1a27-0b53-4da4-98e3-b9b5f3c5a0eb",
   "metadata": {},
   "outputs": [
    {
     "data": {
      "text/plain": [
       "3.3333333333333335"
      ]
     },
     "execution_count": 22,
     "metadata": {},
     "output_type": "execute_result"
    }
   ],
   "source": [
    "# This will convert 200 minutes to hours by diving by 60\n",
    "200/60"
   ]
  },
  {
   "cell_type": "markdown",
   "id": "28dc7653-da00-490f-a1b4-6ddb99ed6981",
   "metadata": {},
   "source": [
    "## Author\n",
    "Maciej Mrozowski"
   ]
  },
  {
   "cell_type": "code",
   "execution_count": null,
   "id": "3e5af554-6456-448a-bc91-40ee48ceb980",
   "metadata": {},
   "outputs": [],
   "source": []
  }
 ],
 "metadata": {
  "kernelspec": {
   "display_name": "Python 3 (ipykernel)",
   "language": "python",
   "name": "python3"
  },
  "language_info": {
   "codemirror_mode": {
    "name": "ipython",
    "version": 3
   },
   "file_extension": ".py",
   "mimetype": "text/x-python",
   "name": "python",
   "nbconvert_exporter": "python",
   "pygments_lexer": "ipython3",
   "version": "3.12.7"
  }
 },
 "nbformat": 4,
 "nbformat_minor": 5
}
